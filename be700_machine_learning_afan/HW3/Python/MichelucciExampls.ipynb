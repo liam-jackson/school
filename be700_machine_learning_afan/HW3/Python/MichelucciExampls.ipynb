{
 "cells": [
  {
   "cell_type": "code",
   "execution_count": 1,
   "id": "horizontal-detector",
   "metadata": {},
   "outputs": [],
   "source": [
    "import random\n",
    "lst1 = random.sample(range(1, 10**8), 10**7)\n",
    "lst2 = random.sample(range(1, 10**8), 10**7)"
   ]
  },
  {
   "cell_type": "code",
   "execution_count": 9,
   "id": "regulated-hotel",
   "metadata": {},
   "outputs": [
    {
     "name": "stdout",
     "output_type": "stream",
     "text": [
      "967 ms ± 2.88 ms per loop (mean ± std. dev. of 7 runs, 1 loop each)\n"
     ]
    }
   ],
   "source": [
    "%%timeit\n",
    "ab = [lst1[i]*lst2[i] for i in range(len(lst1))]"
   ]
  },
  {
   "cell_type": "code",
   "execution_count": 10,
   "id": "residential-fabric",
   "metadata": {},
   "outputs": [],
   "source": [
    "import numpy as np\n",
    "list1_np = np.array(lst1)\n",
    "list2_np = np.array(lst2)\n",
    "\n"
   ]
  },
  {
   "cell_type": "code",
   "execution_count": 11,
   "id": "relevant-diana",
   "metadata": {},
   "outputs": [
    {
     "name": "stdout",
     "output_type": "stream",
     "text": [
      "11.5 ms ± 23.9 µs per loop (mean ± std. dev. of 7 runs, 100 loops each)\n"
     ]
    }
   ],
   "source": [
    "%%timeit\n",
    "Out2 = np.multiply(list1_np, list2_np)"
   ]
  },
  {
   "cell_type": "code",
   "execution_count": 12,
   "id": "considered-digest",
   "metadata": {},
   "outputs": [],
   "source": [
    "def sigmoid(z):\n",
    "    s = 1.0 / (1.0 + np.exp(-z))\n",
    "    return s"
   ]
  },
  {
   "cell_type": "code",
   "execution_count": null,
   "id": "intellectual-restoration",
   "metadata": {},
   "outputs": [],
   "source": []
  }
 ],
 "metadata": {
  "kernelspec": {
   "display_name": "Python 3",
   "language": "python",
   "name": "python3"
  },
  "language_info": {
   "codemirror_mode": {
    "name": "ipython",
    "version": 3
   },
   "file_extension": ".py",
   "mimetype": "text/x-python",
   "name": "python",
   "nbconvert_exporter": "python",
   "pygments_lexer": "ipython3",
   "version": "3.7.9"
  }
 },
 "nbformat": 4,
 "nbformat_minor": 5
}
