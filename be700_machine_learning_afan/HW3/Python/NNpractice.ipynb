{
 "cells": [
  {
   "cell_type": "code",
   "execution_count": 3,
   "id": "sitting-lawrence",
   "metadata": {},
   "outputs": [],
   "source": [
    "import struct\n",
    "import numpy as np\n",
    "import tensorflow as tf\n",
    "import pandas as pd\n",
    "import matplotlib.pyplot as plt\n"
   ]
  },
  {
   "cell_type": "code",
   "execution_count": 4,
   "id": "grand-discharge",
   "metadata": {},
   "outputs": [],
   "source": [
    "# training images\n",
    "with open('train-images-idx3-ubyte','rb') as f:\n",
    "    magic, size = struct.unpack(\">II\", f.read(8))\n",
    "    nrows, ncols = struct.unpack(\">II\", f.read(8))\n",
    "    train_data = np.fromfile(f, dtype=np.dtype(np.uint8).newbyteorder('>'))\n",
    "    train_data = train_data.reshape((size, nrows, ncols))\n",
    "# training labels\n",
    "with open('train-labels-idx1-ubyte','rb') as f:\n",
    "    magic, size = struct.unpack(\">II\", f.read(8))\n",
    "    train_labels = np.fromfile(f, dtype=np.dtype(np.uint8).newbyteorder('>'))\n",
    "\n",
    "# test images\n",
    "with open('t10k-images-idx3-ubyte','rb') as f:\n",
    "    magic, size = struct.unpack(\">II\", f.read(8))\n",
    "    nrows, ncols = struct.unpack(\">II\", f.read(8))\n",
    "    test_data = np.fromfile(f, dtype=np.dtype(np.uint8).newbyteorder('>'))\n",
    "    test_data = test_data.reshape((size, nrows, ncols))\n",
    "\n",
    "# test labels\n",
    "with open('t10k-labels-idx1-ubyte','rb') as f:\n",
    "    magic, size = struct.unpack(\">II\", f.read(8))\n",
    "    test_labels = np.fromfile(f, dtype=np.dtype(np.uint8).newbyteorder('>'))"
   ]
  },
  {
   "cell_type": "code",
   "execution_count": 6,
   "id": "fixed-symbol",
   "metadata": {},
   "outputs": [],
   "source": [
    "n_imgs = 6000\n",
    "train_data = train_data[0:n_imgs,:,:] \n",
    "train_data = train_data / 255.0\n",
    "\n",
    "train_labels = train_labels[0:n_imgs]"
   ]
  },
  {
   "cell_type": "code",
   "execution_count": 11,
   "id": "standing-citizenship",
   "metadata": {},
   "outputs": [],
   "source": [
    "train_labels_ = np.zeros((train_data.shape[0], 10))\n",
    "train_labels_[np.arange(train_data.shape[0]), train_labels] = 1\n",
    "train_labels_ = train_labels_.transpose()\n",
    "train_labels_ = np.array(train_labels_)"
   ]
  },
  {
   "cell_type": "code",
   "execution_count": 14,
   "id": "abandoned-lying",
   "metadata": {},
   "outputs": [],
   "source": [
    "test_labels_ = np.zeros((test_data.shape[0], 10))\n",
    "test_labels_[np.arange(test_data.shape[0]), test_labels] = 1\n",
    "test_labels_ = test_labels_.transpose()\n",
    "test_labels_ = np.array(test_labels_)"
   ]
  },
  {
   "cell_type": "code",
   "execution_count": 17,
   "id": "sorted-delhi",
   "metadata": {},
   "outputs": [],
   "source": [
    "n_dim = train_data.shape[1] * train_data.shape[2]\n",
    "tf.reset_default_graph()\n",
    "\n",
    "# Number of neurons in the layers\n",
    "n1 = 5 # Number of neurons in layer 1\n",
    "n2 = 10 # Number of neurons in output layer\n",
    "cost_history = np.empty(shape=[1], dtype = float)\n",
    "learning_rate = tf.placeholder(tf.float32, shape=())\n",
    "X = tf.placeholder(tf.float32, [n_dim, None])\n",
    "Y = tf.placeholder(tf.float32, [10, None])\n",
    "W1 = tf.Variable(tf. truncated_normal ([n1, n_dim], stddev=.1))\n",
    "b1 = tf.Variable(tf.zeros([n1,1]))\n",
    "W2 = tf.Variable(tf. truncated_normal ([n2, n1], stddev=.1))\n",
    "b2 = tf.Variable(tf.zeros([n2,1]))\n",
    "\n",
    "# Let's build our network...\n",
    "Z1 = tf.nn.relu(tf.matmul(W1, X) + b1)\n",
    "Z2 = tf.nn.relu(tf.matmul(W2, Z1) + b2)\n",
    "y_ = tf.nn.softmax(Z2,0)\n",
    "cost = - tf.reduce_mean(Y * tf.log(y_)+(1-Y) * tf.log(1-y_))\n",
    "optimizer = tf.train.AdamOptimizer(learning_rate).minimize(cost)\n",
    "init = tf.global_variables_initializer()\n"
   ]
  },
  {
   "cell_type": "code",
   "execution_count": null,
   "id": "parallel-boundary",
   "metadata": {},
   "outputs": [],
   "source": []
  }
 ],
 "metadata": {
  "kernelspec": {
   "display_name": "Python 3",
   "language": "python",
   "name": "python3"
  },
  "language_info": {
   "codemirror_mode": {
    "name": "ipython",
    "version": 3
   },
   "file_extension": ".py",
   "mimetype": "text/x-python",
   "name": "python",
   "nbconvert_exporter": "python",
   "pygments_lexer": "ipython3",
   "version": "3.7.9"
  }
 },
 "nbformat": 4,
 "nbformat_minor": 5
}
