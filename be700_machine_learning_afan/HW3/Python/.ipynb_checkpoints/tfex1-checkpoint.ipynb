{
 "cells": [
  {
   "cell_type": "code",
   "execution_count": 17,
   "id": "reasonable-webcam",
   "metadata": {},
   "outputs": [],
   "source": [
    "import numpy as np\n",
    "import tensorflow as tf\n",
    "import matplotlib.pyplot as plt\n"
   ]
  },
  {
   "cell_type": "markdown",
   "id": "bored-queensland",
   "metadata": {},
   "source": [
    "# Constants in TF\n",
    "## tf.constant as single number"
   ]
  },
  {
   "cell_type": "code",
   "execution_count": 29,
   "id": "dated-mouth",
   "metadata": {},
   "outputs": [],
   "source": [
    "np.set_printoptions(precision=5, suppress=True)\n",
    "# -- define constant in tf in our comp graph\n",
    "# -- constant is something that does not change in program\n",
    "# do not comment on same line as tf functions or stuff\n",
    "\n",
    "x = tf.constant(np.pi)\n",
    "\n",
    "y = tf.math.sin(x)\n",
    "z = tf.math.cos(x)\n"
   ]
  },
  {
   "cell_type": "code",
   "execution_count": 22,
   "id": "modified-madrid",
   "metadata": {},
   "outputs": [],
   "source": [
    "# open session to evaluate y and z\n",
    "\n",
    "with tf.Session() as my_session:\n",
    "    # evaluate y and z and commit to memory\n",
    "    y_evaluated = my_session.run(y)\n",
    "    z_evaluated = my_session.run(z)    "
   ]
  },
  {
   "cell_type": "code",
   "execution_count": 23,
   "id": "caroline-punch",
   "metadata": {},
   "outputs": [
    {
     "name": "stdout",
     "output_type": "stream",
     "text": [
      "-8.742278e-08\n",
      "-1.0\n"
     ]
    }
   ],
   "source": [
    "# is y still in memory?\n",
    "print(y_evaluated)\n",
    "print(z_evaluated)"
   ]
  },
  {
   "cell_type": "markdown",
   "id": "loved-imaging",
   "metadata": {},
   "source": [
    "## tf.constant as matrix:"
   ]
  },
  {
   "cell_type": "code",
   "execution_count": 39,
   "id": "seventh-avenue",
   "metadata": {},
   "outputs": [],
   "source": [
    "np.set_printoptions(precision=5, suppress=False)\n",
    "\n",
    "x = tf.constant(np.arange(0, np.pi, np.pi/6))\n",
    "y = tf.math.sin(x)\n",
    "z = tf.math.cos(x)\n"
   ]
  },
  {
   "cell_type": "code",
   "execution_count": 44,
   "id": "major-purple",
   "metadata": {},
   "outputs": [],
   "source": [
    "with tf.Session() as my_session:\n",
    "    x_evaluated = my_session.run(x)\n",
    "    y_evaluated = my_session.run(y)\n",
    "    z_evaluated = my_session.run(z)"
   ]
  },
  {
   "cell_type": "code",
   "execution_count": 45,
   "id": "chief-boating",
   "metadata": {},
   "outputs": [
    {
     "data": {
      "text/plain": [
       "[<matplotlib.lines.Line2D at 0x7f8e6011be50>]"
      ]
     },
     "execution_count": 45,
     "metadata": {},
     "output_type": "execute_result"
    },
    {
     "data": {
      "image/png": "[encoded data removed]",
      "text/plain": [
       "<Figure size 432x288 with 1 Axes>"
      ]
     },
     "metadata": {
      "needs_background": "light"
     },
     "output_type": "display_data"
    }
   ],
   "source": []
  },
  {
   "cell_type": "markdown",
   "id": "returning-mouse",
   "metadata": {},
   "source": [
    "# Variables in TF"
   ]
  },
  {
   "cell_type": "code",
   "execution_count": 55,
   "id": "pretty-spell",
   "metadata": {},
   "outputs": [],
   "source": [
    "np.set_printoptions(precision=5, suppress=True)\n",
    "\n",
    "# define 2 variables\n",
    "x1 = tf.Variable(1000)\n",
    "x2 = tf.Variable(2000)\n",
    "\n",
    "y = tf.add(x1,x2)\n",
    "\n",
    "x1 = tf.add(x1, 5000)\n",
    "\n",
    "init = tf.global_variables_initializer()\n"
   ]
  },
  {
   "cell_type": "code",
   "execution_count": 59,
   "id": "sorted-vision",
   "metadata": {
    "scrolled": true,
    "tags": []
   },
   "outputs": [],
   "source": [
    "with tf.Session() as my_session:\n",
    "    my_session.run(init)\n",
    "    y_evaluated = my_session.run(y)\n",
    "    x1_evaluated = my_session.run(x1)"
   ]
  },
  {
   "cell_type": "code",
   "execution_count": 60,
   "id": "shaped-colorado",
   "metadata": {},
   "outputs": [
    {
     "name": "stdout",
     "output_type": "stream",
     "text": [
      "y_evaluated = 3000\n",
      "x1_evaluated = 6000\n"
     ]
    }
   ],
   "source": [
    "print(f'y_evaluated = {y_evaluated}')\n",
    "print(f'x1_evaluated = {x1_evaluated}')"
   ]
  },
  {
   "cell_type": "markdown",
   "id": "fiscal-fitness",
   "metadata": {},
   "source": [
    "# Placeholders in TF \n",
    "### basically constants but user-defined values"
   ]
  },
  {
   "cell_type": "code",
   "execution_count": 66,
   "id": "opening-mining",
   "metadata": {},
   "outputs": [],
   "source": [
    "np.set_printoptions(precision=5, suppress=True)\n",
    "\n",
    "# define 2 variables\n",
    "x1 = tf.placeholder(tf.float32, [2])\n",
    "x2 = tf.placeholder(tf.float32, [2])\n",
    "\n",
    "z = tf.add(x1,x2)\n"
   ]
  },
  {
   "cell_type": "code",
   "execution_count": 74,
   "id": "egyptian-riverside",
   "metadata": {},
   "outputs": [],
   "source": [
    "my_dict = {x1:[1,5], x2:[1,1]}"
   ]
  },
  {
   "cell_type": "code",
   "execution_count": 75,
   "id": "blond-means",
   "metadata": {},
   "outputs": [],
   "source": [
    "with tf.Session() as my_session:\n",
    "    z_evaluated = my_session.run(z, my_dict)\n",
    "    "
   ]
  },
  {
   "cell_type": "code",
   "execution_count": 76,
   "id": "growing-damages",
   "metadata": {},
   "outputs": [
    {
     "data": {
      "text/plain": [
       "array([2., 6.], dtype=float32)"
      ]
     },
     "execution_count": 76,
     "metadata": {},
     "output_type": "execute_result"
    }
   ],
   "source": [
    "z_evaluated"
   ]
  },
  {
   "cell_type": "markdown",
   "id": "unnecessary-contemporary",
   "metadata": {},
   "source": [
    "# Dot Product in TF"
   ]
  },
  {
   "cell_type": "code",
   "execution_count": null,
   "id": "handy-thickness",
   "metadata": {},
   "outputs": [],
   "source": []
  }
 ],
 "metadata": {
  "kernelspec": {
   "display_name": "Python 3",
   "language": "python",
   "name": "python3"
  },
  "language_info": {
   "codemirror_mode": {
    "name": "ipython",
    "version": 3
   },
   "file_extension": ".py",
   "mimetype": "text/x-python",
   "name": "python",
   "nbconvert_exporter": "python",
   "pygments_lexer": "ipython3",
   "version": "3.7.9"
  }
 },
 "nbformat": 4,
 "nbformat_minor": 5
}
