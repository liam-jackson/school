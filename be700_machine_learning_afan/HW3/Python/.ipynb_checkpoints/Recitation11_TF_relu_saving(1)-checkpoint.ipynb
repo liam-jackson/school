{
 "cells": [
  {
   "cell_type": "markdown",
   "metadata": {},
   "source": [
    "#### Useful references\n",
    "\n",
    "https://www.tensorflow.org/versions/r1.15/api_docs/python/tf\n"
   ]
  },
  {
   "cell_type": "markdown",
   "metadata": {},
   "source": [
    "\n",
    "### module imports"
   ]
  },
  {
   "cell_type": "code",
   "execution_count": 1,
   "metadata": {},
   "outputs": [],
   "source": [
    "import numpy as np\n",
    "import matplotlib.pyplot as plt\n",
    "import numpy.random as rnd\n",
    "\n",
    "import tensorflow as tf\n",
    "\n",
    "np.set_printoptions(suppress=True, precision=5)"
   ]
  },
  {
   "cell_type": "markdown",
   "metadata": {},
   "source": [
    "### Create and visualize data"
   ]
  },
  {
   "cell_type": "code",
   "execution_count": 2,
   "metadata": {},
   "outputs": [
    {
     "data": {
      "image/png": "[encoded data removed]",
      "text/plain": [
       "<Figure size 576x432 with 1 Axes>"
      ]
     },
     "metadata": {
      "needs_background": "light"
     },
     "output_type": "display_data"
    }
   ],
   "source": [
    "# generate the data set\n",
    "\n",
    "x = np.array([[0,0,1,1],[0,1,0,1]])\n",
    "ns = 4\n",
    "\n",
    "sg = 0.0\n",
    "# ns = 100\n",
    "# x = rnd.randint(2,size=(2,ns))\n",
    "\n",
    "xn = x + sg*rnd.randn(2,ns)\n",
    "y = np.logical_xor(x[0],x[1])\n",
    "\n",
    "plt.figure(figsize=(8,6))\n",
    "plt.scatter(xn[0,y==0],xn[1,y==0], label='0', s=100)\n",
    "plt.scatter(xn[0,y==1],xn[1,y==1], label='1', s=100)\n",
    "plt.xlabel('x1')\n",
    "plt.ylabel('x2')\n",
    "plt.axis('square')\n",
    "plt.legend(bbox_to_anchor=(1,1),loc='upper left' )\n",
    "plt.show()"
   ]
  },
  {
   "cell_type": "markdown",
   "metadata": {},
   "source": [
    "### XOR with Tensorflow using ReLU"
   ]
  },
  {
   "cell_type": "code",
   "execution_count": 3,
   "metadata": {},
   "outputs": [
    {
     "name": "stdout",
     "output_type": "stream",
     "text": [
      "(2, 4)\n",
      "(1, 4)\n"
     ]
    }
   ],
   "source": [
    "train_x = xn\n",
    "train_y =y.reshape((1,-1))\n",
    "print(train_x.shape)\n",
    "print(train_y.shape)"
   ]
  },
  {
   "cell_type": "code",
   "execution_count": 7,
   "metadata": {},
   "outputs": [
    {
     "name": "stdout",
     "output_type": "stream",
     "text": [
      "WARNING:tensorflow:From /opt/anaconda3/envs/ml_tensorflow/lib/python3.7/site-packages/tensorflow_core/python/ops/nn_impl.py:183: where (from tensorflow.python.ops.array_ops) is deprecated and will be removed in a future version.\n",
      "Instructions for updating:\n",
      "Use tf.where in 2.0, which has the same broadcast rule as np.where\n"
     ]
    }
   ],
   "source": [
    "# create the network\n",
    "tf.reset_default_graph()\n",
    "\n",
    "# placeholders for input / outputs\n",
    "X = tf.placeholder(tf.float64, [2, None])\n",
    "Y = tf.placeholder(tf.float64, [1, None])\n",
    "learning_rate = tf.placeholder(tf.float64, shape=())\n",
    "\n",
    "# weights\n",
    "W1 = tf.Variable(tf.random_normal(shape=[2,2], dtype=tf.float64))\n",
    "W2 = tf.Variable(tf.random_normal(shape=[1,2], dtype=tf.float64))\n",
    "\n",
    "# biases\n",
    "b1 = tf.Variable(tf.zeros(shape=[2,1], dtype=tf.float64))\n",
    "b2 = tf.Variable(tf.zeros(1, dtype=tf.float64))\n",
    "\n",
    "init = tf.global_variables_initializer()\n",
    "\n",
    "# neurons and output\n",
    "z = tf.matmul(W2, tf.nn.leaky_relu(tf.matmul(W1,X)+b1, alpha=0.05))+b2\n",
    "y_out = tf.sigmoid(z)\n",
    "\n",
    "# cost function\n",
    "cost_func = -tf.reduce_sum(Y*tf.log(y_out)+(1-Y)*tf.log(1-y_out), axis=1)\n",
    "cost_func2 = tf.reduce_sum(tf.nn.sigmoid_cross_entropy_with_logits(logits=z, labels=Y))\n",
    "\n",
    "training_step = tf.train.GradientDescentOptimizer(learning_rate).minimize(cost_func)\n",
    "\n",
    "# saving node\n",
    "saver  = tf.train.Saver()"
   ]
  },
  {
   "cell_type": "code",
   "execution_count": 8,
   "metadata": {},
   "outputs": [],
   "source": [
    "# function to train the model\n",
    "def run_linear_model(learning_r, training_epochs, train_obs,\n",
    "                    train_labels, debug=False):\n",
    "    sess = tf.Session()\n",
    "    sess.run(init)\n",
    "    \n",
    "    cost_history = np.empty(shape=[0], dtype = float)\n",
    "    cost_history2 = np.empty(shape=[0], dtype = float)\n",
    "    \n",
    "    for epoch in range(training_epochs):\n",
    "        [_, cost_,cost2_]=sess.run([training_step,cost_func, cost_func2],\n",
    "                                   feed_dict = {X: train_obs, Y:train_labels,\n",
    "                                    learning_rate: learning_r})\n",
    "        \n",
    "        cost_history = np.append(cost_history, cost_)\n",
    "        cost_history2 = np.append(cost_history2, cost2_)\n",
    "        \n",
    "        if (epoch%1000 == 0 ) & debug:\n",
    "            print('Epoch ', epoch, \"cost J = \", cost_, cost2_)\n",
    "  \n",
    "    # save the trained network\n",
    "    save_path = saver.save(sess, 'trained_model.ckpt')\n",
    "    \n",
    "    return sess, cost_history,cost_history2, save_path"
   ]
  },
  {
   "cell_type": "code",
   "execution_count": 9,
   "metadata": {},
   "outputs": [
    {
     "name": "stdout",
     "output_type": "stream",
     "text": [
      "Epoch  0 cost J =  [2.61959] 2.619589090438237\n",
      "Epoch  1000 cost J =  [0.01757] 0.017568247337238538\n",
      "Epoch  2000 cost J =  [0.00805] 0.008049464810615425\n",
      "Epoch  3000 cost J =  [0.00516] 0.005164933126967287\n",
      "Epoch  4000 cost J =  [0.00379] 0.0037853963917798437\n",
      "Epoch  5000 cost J =  [0.00298] 0.0029798513002476656\n",
      "Epoch  6000 cost J =  [0.00245] 0.002453526937758196\n",
      "Epoch  7000 cost J =  [0.00208] 0.0020827331428999356\n",
      "Epoch  8000 cost J =  [0.00181] 0.001808275631097438\n",
      "Epoch  9000 cost J =  [0.0016] 0.0015969443216649094\n",
      "Epoch  10000 cost J =  [0.00143] 0.0014293215520009492\n"
     ]
    }
   ],
   "source": [
    "# run the training function\n",
    "sess, cost_history,cost_history2, spath = run_linear_model(learning_r=0.1, training_epochs= 10001,\n",
    "                                     train_obs=train_x, train_labels=train_y,\n",
    "                                     debug=True)"
   ]
  },
  {
   "cell_type": "code",
   "execution_count": 10,
   "metadata": {},
   "outputs": [
    {
     "data": {
      "image/png": "[encoded data removed]",
      "text/plain": [
       "<Figure size 864x288 with 1 Axes>"
      ]
     },
     "metadata": {
      "needs_background": "light"
     },
     "output_type": "display_data"
    }
   ],
   "source": [
    "# plot the cost\n",
    "plt.figure(figsize=(12,4))\n",
    "plt.plot(cost_history, lw=6)\n",
    "plt.plot(cost_history2,lw=2, linestyle='dashed')\n",
    "plt.xlabel('epoch')\n",
    "plt.ylabel('cost')\n",
    "plt.show()"
   ]
  },
  {
   "cell_type": "code",
   "execution_count": 11,
   "metadata": {},
   "outputs": [],
   "source": [
    "ntest = 100\n",
    "sg=0.1\n",
    "x_test = rnd.randint(2,size=(2,ntest))\n",
    "y_test = np.logical_xor(x_test[0],x_test[1])\n",
    "\n",
    "x_test = x_test + sg*rnd.randn(2,ntest)"
   ]
  },
  {
   "cell_type": "code",
   "execution_count": 12,
   "metadata": {},
   "outputs": [],
   "source": [
    "# predict the output\n",
    "y_tf = sess.run(y_out, {X: x_test})\n",
    "y_thresh = (y_tf>=0.5).flatten()"
   ]
  },
  {
   "cell_type": "code",
   "execution_count": 13,
   "metadata": {},
   "outputs": [
    {
     "data": {
      "image/png": "[encoded data removed]",
      "text/plain": [
       "<Figure size 576x432 with 1 Axes>"
      ]
     },
     "metadata": {
      "needs_background": "light"
     },
     "output_type": "display_data"
    }
   ],
   "source": [
    "# plot the fit models\n",
    "plt.figure(figsize=(8,6))\n",
    "plt.scatter(x_test[0,y_thresh==0],x_test[1,y_thresh==0], label='0', s=100)\n",
    "plt.scatter(x_test[0,y_thresh==1],x_test[1,y_thresh==1], label='1', s=100)\n",
    "plt.xlabel('x1')\n",
    "plt.ylabel('x2')\n",
    "plt.axis('square')\n",
    "plt.legend(bbox_to_anchor=(1,1),loc='upper left' )\n",
    "plt.show()"
   ]
  },
  {
   "cell_type": "code",
   "execution_count": 14,
   "metadata": {},
   "outputs": [],
   "source": [
    "w1_trained = sess.run(W1)\n",
    "b1_trained = sess.run(b1)\n",
    "w2_trained = sess.run(W2)\n",
    "b2_trained = sess.run(b2)"
   ]
  },
  {
   "cell_type": "code",
   "execution_count": 15,
   "metadata": {},
   "outputs": [],
   "source": [
    "sess.close()"
   ]
  },
  {
   "cell_type": "code",
   "execution_count": 17,
   "metadata": {},
   "outputs": [
    {
     "name": "stdout",
     "output_type": "stream",
     "text": [
      "[[-3.43201  3.43147]\n",
      " [ 3.55566 -3.55602]]\n"
     ]
    }
   ],
   "source": [
    "print(w1_trained)"
   ]
  },
  {
   "cell_type": "code",
   "execution_count": 18,
   "metadata": {},
   "outputs": [
    {
     "name": "stdout",
     "output_type": "stream",
     "text": [
      "INFO:tensorflow:Restoring parameters from trained_model.ckpt\n",
      "W1 trained\n",
      " [[-3.43201  3.43147]\n",
      " [ 3.55566 -3.55602]]\n",
      "W1 restored\n",
      " [[-3.43201  3.43147]\n",
      " [ 3.55566 -3.55602]]\n",
      "\n",
      "b1 trained\n",
      " [[-0.00054]\n",
      " [-0.00037]]\n",
      "b1 restored\n",
      " [[-0.00054]\n",
      " [-0.00037]]\n",
      "\n",
      "W2 trained\n",
      " [[5.09958 4.92124]]\n",
      "W2 restored\n",
      " [[5.09958 4.92124]]\n",
      "\n",
      "b2 trained\n",
      " [-7.39066]\n",
      "b2 restored\n",
      " [-7.39066]\n"
     ]
    }
   ],
   "source": [
    "# restore the loaded network\n",
    "sess_r = tf.Session()\n",
    "saver.restore(sess_r, spath)\n",
    "\n",
    "print(\"W1 trained\\n\",w1_trained)\n",
    "print(\"W1 restored\\n\",sess_r.run(W1))\n",
    "\n",
    "print(\"\\nb1 trained\\n\",b1_trained)\n",
    "print(\"b1 restored\\n\",sess_r.run(b1))\n",
    "\n",
    "print(\"\\nW2 trained\\n\",w2_trained)\n",
    "print(\"W2 restored\\n\",sess_r.run(W2))\n",
    "\n",
    "print(\"\\nb2 trained\\n\",b2_trained)\n",
    "print(\"b2 restored\\n\",sess_r.run(b2))"
   ]
  },
  {
   "cell_type": "code",
   "execution_count": 20,
   "metadata": {},
   "outputs": [],
   "source": [
    "# predict the output\n",
    "y_tf_r = sess_r.run(y_out, {X: x_test})\n",
    "y_thresh_r = (y_tf_r>=0.5).flatten()"
   ]
  },
  {
   "cell_type": "code",
   "execution_count": 21,
   "metadata": {},
   "outputs": [
    {
     "data": {
      "image/png": "[encoded data removed]",
      "text/plain": [
       "<Figure size 576x432 with 1 Axes>"
      ]
     },
     "metadata": {
      "needs_background": "light"
     },
     "output_type": "display_data"
    }
   ],
   "source": [
    "# plot the fit models\n",
    "plt.figure(figsize=(8,6))\n",
    "plt.scatter(x_test[0,y_thresh_r==0],x_test[1,y_thresh_r==0], label='0', s=100)\n",
    "plt.scatter(x_test[0,y_thresh_r==1],x_test[1,y_thresh_r==1], label='1', s=100)\n",
    "plt.xlabel('x1')\n",
    "plt.ylabel('x2')\n",
    "plt.axis('square')\n",
    "plt.legend(bbox_to_anchor=(1,1),loc='upper left' )\n",
    "plt.show()"
   ]
  },
  {
   "cell_type": "code",
   "execution_count": 22,
   "metadata": {},
   "outputs": [],
   "source": [
    "sess_r.close()"
   ]
  },
  {
   "cell_type": "code",
   "execution_count": null,
   "metadata": {},
   "outputs": [],
   "source": []
  },
  {
   "cell_type": "code",
   "execution_count": null,
   "metadata": {},
   "outputs": [],
   "source": []
  }
 ],
 "metadata": {
  "kernelspec": {
   "display_name": "Python 3",
   "language": "python",
   "name": "python3"
  },
  "language_info": {
   "codemirror_mode": {
    "name": "ipython",
    "version": 3
   },
   "file_extension": ".py",
   "mimetype": "text/x-python",
   "name": "python",
   "nbconvert_exporter": "python",
   "pygments_lexer": "ipython3",
   "version": "3.7.10"
  },
  "varInspector": {
   "cols": {
    "lenName": 16,
    "lenType": 16,
    "lenVar": 40
   },
   "kernels_config": {
    "python": {
     "delete_cmd_postfix": "",
     "delete_cmd_prefix": "del ",
     "library": "var_list.py",
     "varRefreshCmd": "print(var_dic_list())"
    },
    "r": {
     "delete_cmd_postfix": ") ",
     "delete_cmd_prefix": "rm(",
     "library": "var_list.r",
     "varRefreshCmd": "cat(var_dic_list()) "
    }
   },
   "position": {
    "height": "304px",
    "left": "694px",
    "right": "20px",
    "top": "120px",
    "width": "350px"
   },
   "types_to_exclude": [
    "module",
    "function",
    "builtin_function_or_method",
    "instance",
    "_Feature"
   ],
   "window_display": false
  }
 },
 "nbformat": 4,
 "nbformat_minor": 4
}
